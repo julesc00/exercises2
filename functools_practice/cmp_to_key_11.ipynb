{
 "cells": [
  {
   "cell_type": "markdown",
   "id": "99ddca11-28a7-4343-b471-a6abcf3972ff",
   "metadata": {},
   "source": [
    "# 11. cmp_to_key()\n",
    "\n",
    "It transforms an old-style comparison function to a key function. A comparison function is any callable that accepts two arguments, compares them, and returns a negative number for less-than, zero for equality, or a positive number for greater-than. Whereas a key function is a callable that accepts one argument and returns another value to be used as the sort key, an example is the `operator.itemgetter()` key function. Key functions are used in tools such as `sorted()`, `min()`, `max()` and `itertools.groupby()`.\n",
    "\n",
    "`cmp_to_key()` is majorly used as a transition tool for programs written in **Python 2** that support comparison functions.\n",
    "\n",
    "Let’s take an example of how we can use a comparison function to sort a list of strings according to the first letter to illustrate the use of `cmp_to_key()`."
   ]
  },
  {
   "cell_type": "code",
   "execution_count": 1,
   "id": "2b2a4b44-e7ed-4903-abd5-d38a86b067b5",
   "metadata": {},
   "outputs": [],
   "source": [
    "from functools import cmp_to_key"
   ]
  },
  {
   "cell_type": "code",
   "execution_count": 2,
   "id": "08a762fb-7602-44b9-b4f9-3defee2428d6",
   "metadata": {},
   "outputs": [],
   "source": [
    "# First, we define a comparison function\n",
    "def comparison(a, b):\n",
    "    if a[0] < b[0]:\n",
    "        return -1\n",
    "    elif a[0] == b[0]:\n",
    "        return 0\n",
    "    else:\n",
    "        return 1\n",
    "    "
   ]
  },
  {
   "cell_type": "code",
   "execution_count": 4,
   "id": "b0aeb477-a4fa-467c-b5f2-d1d4f78ddd7e",
   "metadata": {},
   "outputs": [
    {
     "name": "stdout",
     "output_type": "stream",
     "text": [
      "Sorted Names: ['Data', 'Science', 'Towards']\n"
     ]
    }
   ],
   "source": [
    "name = [\"Towards\", \"Data\", \"Science\"]\n",
    "\n",
    "sorted_names = sorted(name, key=cmp_to_key(comparison))\n",
    "print(f\"Sorted Names: {sorted_names}\")"
   ]
  },
  {
   "cell_type": "code",
   "execution_count": null,
   "id": "c6f3ca78-e68d-403e-83d5-bb6ef6f83fe3",
   "metadata": {},
   "outputs": [],
   "source": []
  }
 ],
 "metadata": {
  "kernelspec": {
   "display_name": "Python 3 (ipykernel)",
   "language": "python",
   "name": "python3"
  },
  "language_info": {
   "codemirror_mode": {
    "name": "ipython",
    "version": 3
   },
   "file_extension": ".py",
   "mimetype": "text/x-python",
   "name": "python",
   "nbconvert_exporter": "python",
   "pygments_lexer": "ipython3",
   "version": "3.9.12"
  }
 },
 "nbformat": 4,
 "nbformat_minor": 5
}
