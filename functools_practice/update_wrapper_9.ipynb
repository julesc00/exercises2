{
 "cells": [
  {
   "cell_type": "markdown",
   "id": "ebf6ad42-1d62-4ac7-b61e-86b2cf6a1fd4",
   "metadata": {},
   "source": [
    "# 9. update_wrapper()\n",
    "\n",
    "It updates the metadata of a wrapper function to look like the wrapped function. For example, in the case of partial functions, `update_wrapper(partial, parent)` will update the documentation(__doc__) and name(__name__) of the partial function to match that of the parent function."
   ]
  },
  {
   "cell_type": "code",
   "execution_count": 1,
   "id": "cd287c10-899a-49e9-8c7d-40eae5b81c6f",
   "metadata": {},
   "outputs": [],
   "source": [
    "from functools import update_wrapper, partial"
   ]
  },
  {
   "cell_type": "code",
   "execution_count": 3,
   "id": "9102549a-a5fb-45a5-9e6f-65f0f70c7493",
   "metadata": {},
   "outputs": [],
   "source": [
    "# Parent function\n",
    "def power(a, b):\n",
    "    \"\"\"a to the power of b\"\"\"\n",
    "    return a ** b"
   ]
  },
  {
   "cell_type": "code",
   "execution_count": 4,
   "id": "84fd7cf8-6484-468d-95d6-fd5f6f633535",
   "metadata": {},
   "outputs": [],
   "source": [
    "# Partial function\n",
    "pow2 = partial(power, b=2)\n",
    "pow2.__doc__ = \"\"\"a to the power of 2\"\"\"\n",
    "pow2.__name__ = \"pow2\""
   ]
  },
  {
   "cell_type": "code",
   "execution_count": 7,
   "id": "7ae59ece-1c51-47c6-8fe0-ba6d2669e58c",
   "metadata": {},
   "outputs": [
    {
     "name": "stdout",
     "output_type": "stream",
     "text": [
      "Documentation of po2:  a to the power of 2\n",
      "Name of pow2:  pow2\n",
      "\n"
     ]
    }
   ],
   "source": [
    "# Before wrapper update\n",
    "print(\"Documentation of po2: \", pow2.__doc__)\n",
    "print(\"Name of pow2: \", pow2.__name__, end=\"\\n\\n\")"
   ]
  },
  {
   "cell_type": "code",
   "execution_count": 8,
   "id": "87926363-53e0-47c1-8ea8-4f144fe710c5",
   "metadata": {},
   "outputs": [
    {
     "data": {
      "text/plain": [
       "functools.partial(<function power at 0x7ff65ea9d4c0>, b=2)"
      ]
     },
     "execution_count": 8,
     "metadata": {},
     "output_type": "execute_result"
    }
   ],
   "source": [
    "update_wrapper(pow2, power)"
   ]
  },
  {
   "cell_type": "code",
   "execution_count": 9,
   "id": "aab99460-2d2b-4a3f-b03e-1922822e51ee",
   "metadata": {},
   "outputs": [
    {
     "name": "stdout",
     "output_type": "stream",
     "text": [
      "Documentation of pow2:  a to the power of b\n",
      "Name of pow2:  power\n"
     ]
    }
   ],
   "source": [
    "# After wrapper update\n",
    "print(\"Documentation of pow2: \", pow2.__doc__)\n",
    "print(\"Name of pow2: \", pow2.__name__)"
   ]
  },
  {
   "cell_type": "code",
   "execution_count": null,
   "id": "368f4c2b-6262-484d-acfe-c058bb1fced9",
   "metadata": {},
   "outputs": [],
   "source": []
  }
 ],
 "metadata": {
  "kernelspec": {
   "display_name": "Python 3 (ipykernel)",
   "language": "python",
   "name": "python3"
  },
  "language_info": {
   "codemirror_mode": {
    "name": "ipython",
    "version": 3
   },
   "file_extension": ".py",
   "mimetype": "text/x-python",
   "name": "python",
   "nbconvert_exporter": "python",
   "pygments_lexer": "ipython3",
   "version": "3.9.12"
  }
 },
 "nbformat": 4,
 "nbformat_minor": 5
}
