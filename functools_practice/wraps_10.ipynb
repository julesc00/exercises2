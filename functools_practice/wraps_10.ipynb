{
 "cells": [
  {
   "cell_type": "markdown",
   "id": "a2603a0f-c05e-4b15-9dac-f13c17c6018b",
   "metadata": {},
   "source": [
    "# 10. wraps()\n",
    "\n",
    "It is a convenience function for invoking `update_wrapper()` to the decorated function. It is equivalent to running `partial(update_wrapper, wrapped=wrapped, assigned=assigned, updated=updated)`."
   ]
  },
  {
   "cell_type": "markdown",
   "id": "4c1cd06c-6555-408e-b924-6b830feea257",
   "metadata": {},
   "source": [
    "### Functool's wraps"
   ]
  },
  {
   "cell_type": "code",
   "execution_count": 1,
   "id": "e07c6a72-01ed-4f14-b293-b335c36b1614",
   "metadata": {},
   "outputs": [],
   "source": [
    "from functools import wraps"
   ]
  },
  {
   "cell_type": "code",
   "execution_count": 2,
   "id": "c4048f47-ec53-4715-8003-f80039ef9429",
   "metadata": {},
   "outputs": [],
   "source": [
    "def my_decorator(func):\n",
    "    @wraps(func)\n",
    "    def wrapper(*args, **kwargs):\n",
    "        print(\"Calling decorated function\")\n",
    "        return func(*args, **kwargs)\n",
    "    return wrapper\n",
    "\n",
    "@my_decorator\n",
    "def example():\n",
    "    \"\"\"Docstring\"\"\"\n",
    "    print(\"Called example function\")"
   ]
  },
  {
   "cell_type": "code",
   "execution_count": 3,
   "id": "f43e9d22-32e6-496e-91a5-090eef10f839",
   "metadata": {},
   "outputs": [
    {
     "name": "stdout",
     "output_type": "stream",
     "text": [
      "Calling decorated function\n",
      "Called example function\n"
     ]
    }
   ],
   "source": [
    "example()"
   ]
  },
  {
   "cell_type": "code",
   "execution_count": 4,
   "id": "3919bbcd-42d4-4b53-bdfb-409c74b835c0",
   "metadata": {},
   "outputs": [
    {
     "name": "stdout",
     "output_type": "stream",
     "text": [
      "example\n",
      "Docstring\n"
     ]
    }
   ],
   "source": [
    "print(example.__name__)\n",
    "print(example.__doc__)"
   ]
  },
  {
   "cell_type": "code",
   "execution_count": null,
   "id": "59ddce21-72e7-4995-9b07-c8bb9a6ddfce",
   "metadata": {},
   "outputs": [],
   "source": []
  }
 ],
 "metadata": {
  "kernelspec": {
   "display_name": "Python 3 (ipykernel)",
   "language": "python",
   "name": "python3"
  },
  "language_info": {
   "codemirror_mode": {
    "name": "ipython",
    "version": 3
   },
   "file_extension": ".py",
   "mimetype": "text/x-python",
   "name": "python",
   "nbconvert_exporter": "python",
   "pygments_lexer": "ipython3",
   "version": "3.9.7"
  }
 },
 "nbformat": 4,
 "nbformat_minor": 5
}
