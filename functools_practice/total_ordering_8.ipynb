{
 "cells": [
  {
   "cell_type": "markdown",
   "id": "311ef4b6-f07d-4114-b2f1-26289ce48d65",
   "metadata": {},
   "source": [
    "# 8. total_ordering()\n",
    "\n",
    "Given a class defining one or more rich [comparison ordering methods](https://www.python.org/dev/peps/pep-0207/) i.e., __lt__(), __le__(), __gt__(), __ge__() or __eq__() (corresponding to <, <=, >, >=, and ==). You can define a few of the comparison methods, and @total_ordering will automatically supply the rest as per the given definitions. It is important that the class should supply an __eq__() method.\n",
    "\n",
    "For example, if you want to create a class that compares different numbers. You would probably need to implement all of the rich comparison methods. However, this might be quite tedious and redundant, to solve this you can only implement the __eq__ and the __gt__ method and use `@total_ordering` to automatically fill up the rest.\n",
    "\n",
    "There is a limitation though, using `@total_ordering` adds [overhead](https://en.wikipedia.org/wiki/Overhead_(computing)#:~:text=In%20computer%20science%2C%20overhead%20is,to%20perform%20a%20specific%20task.&text=Examples%20of%20computing%20overhead%20may,data%20transfer%2C%20and%20data%20structures.) leading to slower execution. Furthermore, the [stack traces](https://en.wikipedia.org/wiki/Stack_trace) for the derived comparison methods are more complex. So if you need efficient code, it would be wise to explicitly implement the comparison methods by yourself."
   ]
  },
  {
   "cell_type": "code",
   "execution_count": 2,
   "id": "e1574103-1def-431d-8948-0de3200255d5",
   "metadata": {},
   "outputs": [],
   "source": [
    "from functools import total_ordering"
   ]
  },
  {
   "cell_type": "markdown",
   "id": "ec9ed151-8d6b-40ae-b77c-d93540128205",
   "metadata": {},
   "source": [
    "### Automatically define methods with total_ordering"
   ]
  },
  {
   "cell_type": "code",
   "execution_count": 3,
   "id": "e0fb7de7-c3be-48e1-a007-5dd6a3f7ad0d",
   "metadata": {},
   "outputs": [],
   "source": [
    "@total_ordering\n",
    "class CompareNums:\n",
    "    def __init__(self, value):\n",
    "        self.value = value\n",
    "        \n",
    "    def __eq__(self, new_value):\n",
    "        return self.value == new_value.value\n",
    "    \n",
    "    def __gt__(self, new_value):\n",
    "        return self.value > new_value.value"
   ]
  },
  {
   "cell_type": "code",
   "execution_count": 6,
   "id": "8b3488e8-1132-4e4b-a291-102413daf2e8",
   "metadata": {},
   "outputs": [
    {
     "name": "stdout",
     "output_type": "stream",
     "text": [
      "5 > 3 :  True\n",
      "9 >= 10 :  False\n"
     ]
    }
   ],
   "source": [
    "print(\"5 > 3 : \", CompareNums(5)>CompareNums(3))\n",
    "print(\"9 >= 10 : \", CompareNums(9)>=CompareNums(10))"
   ]
  },
  {
   "cell_type": "code",
   "execution_count": 5,
   "id": "1fa03acb-f119-41d1-a24d-ae86338cc6a3",
   "metadata": {},
   "outputs": [
    {
     "name": "stdout",
     "output_type": "stream",
     "text": [
      "True\n"
     ]
    }
   ],
   "source": [
    "print(5>3)"
   ]
  },
  {
   "cell_type": "code",
   "execution_count": 7,
   "id": "d8198b7c-d412-455e-96c2-c42c5a4ddbcb",
   "metadata": {},
   "outputs": [
    {
     "name": "stdout",
     "output_type": "stream",
     "text": [
      "5 == 5 : True\n"
     ]
    }
   ],
   "source": [
    "print(\"5 == 5 :\", CompareNums(5) == CompareNums(5))"
   ]
  },
  {
   "cell_type": "code",
   "execution_count": 8,
   "id": "9d017201-dc52-4488-8d6e-80c6dfdb088a",
   "metadata": {},
   "outputs": [
    {
     "data": {
      "text/plain": [
       "True"
      ]
     },
     "execution_count": 8,
     "metadata": {},
     "output_type": "execute_result"
    }
   ],
   "source": [
    "5 == 5"
   ]
  },
  {
   "cell_type": "code",
   "execution_count": null,
   "id": "b4d184c9-b5d2-4a22-821d-2b9fc180f866",
   "metadata": {},
   "outputs": [],
   "source": []
  }
 ],
 "metadata": {
  "kernelspec": {
   "display_name": "Python 3 (ipykernel)",
   "language": "python",
   "name": "python3"
  },
  "language_info": {
   "codemirror_mode": {
    "name": "ipython",
    "version": 3
   },
   "file_extension": ".py",
   "mimetype": "text/x-python",
   "name": "python",
   "nbconvert_exporter": "python",
   "pygments_lexer": "ipython3",
   "version": "3.9.7"
  }
 },
 "nbformat": 4,
 "nbformat_minor": 5
}
