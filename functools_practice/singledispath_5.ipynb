{
 "cells": [
  {
   "cell_type": "markdown",
   "id": "4ef90501-9ec0-4f81-af61-045093bf1bd1",
   "metadata": {},
   "source": [
    "# 5. singledispatch()\n",
    "\n",
    "Before we discuss this function, it is important that we first gloss over two  \n",
    "important concepts:\n",
    "\n",
    "- The first one is a **generic function** which is a function composed of multiple\n",
    "functions implementing the same operation for different types. The implementation to be used during a call is determined by the [dispatch algorithm](http://ezyfleet.com/dispatch-algorithm-overview-2/).\n",
    "- The second is the **Single dispatch**, which is a form of a generic function dispatch where the implementation is chosen based on the type of a single argument.  \n",
    "\n",
    "With this in mind, the functool’s `singledispatch` is a decorator that transforms a simple function into a generic function whose behaviour is dependent on the type of its first argument. In plain language, it is used for **function overloading**.\n",
    "\n"
   ]
  },
  {
   "cell_type": "markdown",
   "id": "b5833ad0-148c-45c6-aaf8-d17c88bf8f9f",
   "metadata": {},
   "source": [
    "### Function overloading with singledispatch"
   ]
  },
  {
   "cell_type": "code",
   "execution_count": 2,
   "id": "c54d9da4-7530-4905-8512-221d044a0f88",
   "metadata": {},
   "outputs": [],
   "source": [
    "from functools import singledispatch"
   ]
  },
  {
   "cell_type": "code",
   "execution_count": 3,
   "id": "71105234-c7ca-419e-95dd-1105e9e56177",
   "metadata": {},
   "outputs": [],
   "source": [
    "@singledispatch\n",
    "def divide(a:int, b:int) -> float:\n",
    "    return a / b\n",
    "\n",
    "@divide.register(str)\n",
    "def _(a:str, b:str) -> str:\n",
    "    return f\"{a}/{b}\""
   ]
  },
  {
   "cell_type": "code",
   "execution_count": 4,
   "id": "40691191-b682-4373-961b-17dbe1371319",
   "metadata": {},
   "outputs": [
    {
     "name": "stdout",
     "output_type": "stream",
     "text": [
      "10/3\n"
     ]
    }
   ],
   "source": [
    "print(divide(\"10\", \"3\"))"
   ]
  },
  {
   "cell_type": "code",
   "execution_count": 5,
   "id": "c76a2fdc-df4c-440d-8688-0b6d3b5e7d38",
   "metadata": {},
   "outputs": [
    {
     "name": "stdout",
     "output_type": "stream",
     "text": [
      "4.0\n"
     ]
    }
   ],
   "source": [
    "print(divide(8,2))"
   ]
  },
  {
   "cell_type": "code",
   "execution_count": 6,
   "id": "b137a432-9a3b-4f61-a149-e5dd9e073e7d",
   "metadata": {},
   "outputs": [
    {
     "name": "stdout",
     "output_type": "stream",
     "text": [
      "hello/hi\n"
     ]
    }
   ],
   "source": [
    "print(divide(\"hello\", \"hi\"))"
   ]
  },
  {
   "cell_type": "code",
   "execution_count": null,
   "id": "0f30b4e8-85c2-4612-9ad9-b12dc68a12a6",
   "metadata": {},
   "outputs": [],
   "source": []
  }
 ],
 "metadata": {
  "kernelspec": {
   "display_name": "Python 3 (ipykernel)",
   "language": "python",
   "name": "python3"
  },
  "language_info": {
   "codemirror_mode": {
    "name": "ipython",
    "version": 3
   },
   "file_extension": ".py",
   "mimetype": "text/x-python",
   "name": "python",
   "nbconvert_exporter": "python",
   "pygments_lexer": "ipython3",
   "version": "3.9.7"
  }
 },
 "nbformat": 4,
 "nbformat_minor": 5
}
