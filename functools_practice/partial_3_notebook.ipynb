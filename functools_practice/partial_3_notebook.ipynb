{
 "cells": [
  {
   "cell_type": "markdown",
   "id": "da5ccde6-8e75-4b08-b0c4-151a1a9468dc",
   "metadata": {},
   "source": [
    "# partial()\n",
    "\n",
    "Partial functions are derived functions that have some pre-assigned input parameters. For example, if a function takes in two parameters say “a” and “b”, a partial function can be created from it that has “a” as a prefilled argument and it can then be called with “b” as the only parameter. Functool’s partial() is used to create partial functions/objects and this is a useful feature as it allows for the:\n",
    "\n",
    "1. Replication of existing functions with some arguments already passed in.\n",
    "2. Creation of newer version of the existing function in a well-documented manner."
   ]
  },
  {
   "cell_type": "code",
   "execution_count": 1,
   "id": "6485ce95-5384-48ea-a585-44c5551b083c",
   "metadata": {},
   "outputs": [],
   "source": [
    "from functools import partial\n",
    "import math"
   ]
  },
  {
   "cell_type": "code",
   "execution_count": 3,
   "id": "6cd3a9cc-23e9-4a23-8c3c-ad159182e150",
   "metadata": {},
   "outputs": [
    {
     "name": "stdout",
     "output_type": "stream",
     "text": [
      "72\n"
     ]
    }
   ],
   "source": [
    "permutation_of_nine = partial(math.perm, 9)\n",
    "print(permutation_of_nine(2))"
   ]
  },
  {
   "cell_type": "code",
   "execution_count": 6,
   "id": "c9696140-9dc1-41e7-aabf-98ac7d4541ae",
   "metadata": {},
   "outputs": [
    {
     "name": "stdout",
     "output_type": "stream",
     "text": [
      "(9,)\n",
      "{}\n",
      "<built-in function perm>\n"
     ]
    }
   ],
   "source": [
    "print(permutation_of_nine.args)\n",
    "print(permutation_of_nine.keywords)\n",
    "print(permutation_of_nine.func)"
   ]
  },
  {
   "cell_type": "markdown",
   "id": "683c2560-c3c6-435e-981e-1d46351efa96",
   "metadata": {},
   "source": [
    "## Example 2"
   ]
  },
  {
   "cell_type": "code",
   "execution_count": 7,
   "id": "18c75cca-dc88-42ff-bfb6-3aa54c6bda6a",
   "metadata": {},
   "outputs": [],
   "source": [
    "def adder(x, y) -> int:\n",
    "    return x + y"
   ]
  },
  {
   "cell_type": "code",
   "execution_count": 10,
   "id": "9fb7c051-ab1f-4be0-b84f-b2dda344bcfd",
   "metadata": {},
   "outputs": [],
   "source": [
    "add2 = partial(adder, y=2)\n",
    "add9 = partial(adder, 9)"
   ]
  },
  {
   "cell_type": "code",
   "execution_count": 12,
   "id": "09b7ab71-c230-492c-9ae3-f2785b6c7376",
   "metadata": {},
   "outputs": [
    {
     "name": "stdout",
     "output_type": "stream",
     "text": [
      "2+3 = 5, 9+3 = 12\n",
      "Parent function of add2 is: <function adder at 0x7fbaf70c7040>\n",
      "Keword argument of add2 is: {'y': 2}\n",
      "Argument of add9: (9,)\n"
     ]
    }
   ],
   "source": [
    "print(f\"2+3 = {add2(3)}, 9+3 = {add9(3)}\")\n",
    "print(f\"Parent function of add2 is: {add2.func}\")\n",
    "print(f\"Keword argument of add2 is: {add2.keywords}\")\n",
    "print(f\"Argument of add9: {add9.args}\")"
   ]
  },
  {
   "cell_type": "code",
   "execution_count": null,
   "id": "0b3b273d-b730-4f84-a3c1-b68799bb8362",
   "metadata": {},
   "outputs": [],
   "source": []
  }
 ],
 "metadata": {
  "kernelspec": {
   "display_name": "Python 3 (ipykernel)",
   "language": "python",
   "name": "python3"
  },
  "language_info": {
   "codemirror_mode": {
    "name": "ipython",
    "version": 3
   },
   "file_extension": ".py",
   "mimetype": "text/x-python",
   "name": "python",
   "nbconvert_exporter": "python",
   "pygments_lexer": "ipython3",
   "version": "3.9.7"
  }
 },
 "nbformat": 4,
 "nbformat_minor": 5
}
