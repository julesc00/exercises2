{
 "cells": [
  {
   "cell_type": "markdown",
   "id": "2c17d2a4-1ae3-4a1f-b911-233be8e79103",
   "metadata": {},
   "source": [
    "# 7. cached_property()\n",
    "\n",
    "As the name suggests the cached_property() is a decorator that transforms a class method<br>\n",
    "into a property whose value is calculated only once and then cached as a normal attribute<br>\n",
    "for the life of the instance. It is similar to @property except the for its caching functionality.<br>\n",
    "It is useful for computationally expensive properties of instances that are otherwise<br>\n",
    "effectively permanent.\n",
    "\n",
    "### Caching object properties using cached_property"
   ]
  },
  {
   "cell_type": "code",
   "execution_count": 1,
   "id": "cb4532aa-3ffb-4eaa-8ff3-386aad22812a",
   "metadata": {},
   "outputs": [],
   "source": [
    "from functools import cached_property\n",
    "import statistics"
   ]
  },
  {
   "cell_type": "code",
   "execution_count": 8,
   "id": "bf5e6ff4-5960-4ac0-a60f-3b138d0aea8a",
   "metadata": {},
   "outputs": [],
   "source": [
    "\"\"\"\n",
    "In the example below, we have a `DataSet` class that holds a list of observations and implements methods \n",
    "to calculate the variance and standard deviation. The problem is that every time the methods are called \n",
    "the variance and standard deviations would have to be re-calculated and this might prove to be expensive \n",
    "especially for large datasets. `@cached_property` mitigates this problem by calculating and storing the value \n",
    "only once and returns it if the method is called again by the same instance.\n",
    "\"\"\"\n",
    "\n",
    "class DataSet:\n",
    "    def __init__(self, number_sequence):\n",
    "        self.data = number_sequence\n",
    "        \n",
    "    @cached_property\n",
    "    def stdev(self):\n",
    "        \"\"\"\n",
    "        statistics.stdev()\n",
    "        \n",
    "        Return the square root of the sample variance.\n",
    "        See variance for arguments and other details.\n",
    "        \"\"\"\n",
    "        return statistics.stdev(self.data)\n",
    "    \n",
    "    @cached_property\n",
    "    def variance(self):\n",
    "        \"\"\"\n",
    "        statistics.variance()\n",
    "        \n",
    "        Return the sample variance of data.\n",
    "        data should be an iterable of Real-valued numbers, with at least two values. The optional argument xbar,\n",
    "        if given, should be the mean of the data. If it is missing or None, the mean is automatically calculated.\n",
    "        Use this function when your data is a sample from a population. To calculate the variance from the entire\n",
    "        population, see pvariance.\n",
    "        \"\"\"\n",
    "        return statistics.variance(self.data)"
   ]
  },
  {
   "cell_type": "code",
   "execution_count": 3,
   "id": "ab849be9-babd-4d36-b987-000de4858773",
   "metadata": {},
   "outputs": [],
   "source": [
    "observations = DataSet([50, 60, 70, 80, 90, 100])"
   ]
  },
  {
   "cell_type": "code",
   "execution_count": 5,
   "id": "3afe6a9c-dfe0-4e1e-ba87-e5b623787694",
   "metadata": {},
   "outputs": [
    {
     "name": "stdout",
     "output_type": "stream",
     "text": [
      "18.708286933869708\n",
      "350\n"
     ]
    }
   ],
   "source": [
    "print(observations.stdev)\n",
    "print(observations.variance)"
   ]
  },
  {
   "cell_type": "code",
   "execution_count": null,
   "id": "f863c179-da19-4349-889c-89768db9e523",
   "metadata": {},
   "outputs": [],
   "source": []
  }
 ],
 "metadata": {
  "kernelspec": {
   "display_name": "Python 3 (ipykernel)",
   "language": "python",
   "name": "python3"
  },
  "language_info": {
   "codemirror_mode": {
    "name": "ipython",
    "version": 3
   },
   "file_extension": ".py",
   "mimetype": "text/x-python",
   "name": "python",
   "nbconvert_exporter": "python",
   "pygments_lexer": "ipython3",
   "version": "3.9.7"
  }
 },
 "nbformat": 4,
 "nbformat_minor": 5
}
