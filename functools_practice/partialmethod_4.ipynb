{
 "cells": [
  {
   "cell_type": "markdown",
   "id": "e2ea77b1-108f-44a8-b1ae-e46024f0c22d",
   "metadata": {},
   "source": [
    "# 4. partialmethod()\n",
    "\n",
    "The partialmethod() returns a new partialmethod descriptor which behaves  \n",
    "like partial except that it is designed to be used as a method definition  \n",
    "rather than being directly callable. You can think of it as the partial()  \n",
    "for methods."
   ]
  },
  {
   "cell_type": "code",
   "execution_count": 1,
   "id": "623a55a9-c5d5-4a33-a4f4-680daa967d0a",
   "metadata": {},
   "outputs": [],
   "source": [
    "from functools import partialmethod"
   ]
  },
  {
   "cell_type": "code",
   "execution_count": 3,
   "id": "83c092d6-e5b3-4f3a-8cc2-bfd1025c786c",
   "metadata": {},
   "outputs": [],
   "source": [
    "class Animal:\n",
    "    def __init__(self):\n",
    "        self.species = \"Bear\"\n",
    "        \n",
    "    def _set_species(self, species):\n",
    "        self.species = species\n",
    "        \n",
    "    set_dog = partialmethod(_set_species, species=\"Dog\")\n",
    "    set_rabbit = partialmethod(_set_species, species=\"Rabbit\")"
   ]
  },
  {
   "cell_type": "code",
   "execution_count": 4,
   "id": "27c7a717-6970-4e72-9b4b-41ac2c8ac085",
   "metadata": {},
   "outputs": [],
   "source": [
    "animal = Animal()"
   ]
  },
  {
   "cell_type": "code",
   "execution_count": 5,
   "id": "6e7516ef-a1d7-4c47-862d-6af50e15750a",
   "metadata": {},
   "outputs": [
    {
     "name": "stdout",
     "output_type": "stream",
     "text": [
      "The default species is Bear\n"
     ]
    }
   ],
   "source": [
    "print(f\"The default species is {animal.species}\")"
   ]
  },
  {
   "cell_type": "code",
   "execution_count": 6,
   "id": "d515e53e-5bbc-4724-892b-84cf4b8d6a27",
   "metadata": {},
   "outputs": [
    {
     "name": "stdout",
     "output_type": "stream",
     "text": [
      "The current species is Dog\n"
     ]
    }
   ],
   "source": [
    "# Change species to dog\n",
    "animal.set_dog()\n",
    "print(f\"The current species is {animal.species}\")"
   ]
  },
  {
   "cell_type": "code",
   "execution_count": 10,
   "id": "9d37a250-06ab-4270-8cee-c40e5d4d7c6e",
   "metadata": {},
   "outputs": [
    {
     "name": "stdout",
     "output_type": "stream",
     "text": [
      "The current species is Rabbit\n",
      "\n"
     ]
    }
   ],
   "source": [
    "# Change species to rabbit\n",
    "animal.set_rabbit()\n",
    "print(f\"The current species is {animal.species}\")\n",
    "print()"
   ]
  },
  {
   "cell_type": "markdown",
   "id": "1a3bf06d-701c-44e9-94d8-925aac915c1d",
   "metadata": {},
   "source": [
    "We first create an `Animal` class that has an attribute species and an instance method `_set_species()`  \n",
    "that sets the animal’s species. Next, we create two `partialmethod` descriptors `set_dog()` and `set_rabbit()`,  \n",
    "which call `_set_species()` with **“Dog”** or **“Rabbit”**, respectively. This allows us to create a new instance  \n",
    "of the class `Animal`, call `set_dog()` to change the animal’s species to Dog and finally print the new attribute."
   ]
  },
  {
   "cell_type": "code",
   "execution_count": null,
   "id": "9dd950f2-6a79-4c7b-bc9d-cd9fbe6b0771",
   "metadata": {},
   "outputs": [],
   "source": []
  }
 ],
 "metadata": {
  "kernelspec": {
   "display_name": "Python 3 (ipykernel)",
   "language": "python",
   "name": "python3"
  },
  "language_info": {
   "codemirror_mode": {
    "name": "ipython",
    "version": 3
   },
   "file_extension": ".py",
   "mimetype": "text/x-python",
   "name": "python",
   "nbconvert_exporter": "python",
   "pygments_lexer": "ipython3",
   "version": "3.9.7"
  }
 },
 "nbformat": 4,
 "nbformat_minor": 5
}
