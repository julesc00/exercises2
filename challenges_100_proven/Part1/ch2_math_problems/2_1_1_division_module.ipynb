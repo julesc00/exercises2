{
 "cells": [
  {
   "cell_type": "markdown",
   "id": "83cac5ba-c885-4939-a13b-326cd012528e",
   "metadata": {},
   "source": [
    "# 2.1.1 Short Introduction to Division and Modulo"
   ]
  },
  {
   "cell_type": "code",
   "execution_count": 1,
   "id": "52fb973c-80d7-436e-8ca6-0999dc4bb69a",
   "metadata": {},
   "outputs": [],
   "source": [
    "# Extraction of digits\n",
    "def extract_digits(number):\n",
    "    remaining_value = number\n",
    "    while remaining_value > 0:\n",
    "        digit = remaining_value % 10\n",
    "        remaining_value //= 10\n",
    "        print(digit, end=\" \")\n",
    "    print()"
   ]
  },
  {
   "cell_type": "code",
   "execution_count": 3,
   "id": "91c496e9-c520-468d-a932-577cc0fe172f",
   "metadata": {},
   "outputs": [
    {
     "name": "stdout",
     "output_type": "stream",
     "text": [
      "0 0 1 \n",
      "5 4 1 \n"
     ]
    }
   ],
   "source": [
    "extract_digits(100)\n",
    "extract_digits(145)"
   ]
  },
  {
   "cell_type": "code",
   "execution_count": 4,
   "id": "871c20b5-e70f-4471-beb1-854006185135",
   "metadata": {},
   "outputs": [],
   "source": [
    "# With divmod()\n",
    "def extract_digits2(number):\n",
    "    remaining_value = number\n",
    "    while remaining_value > 0:\n",
    "        remaining_value, digit = divmod(remaining_value, 10)\n",
    "        print(digit, end=\" \")\n",
    "    print()"
   ]
  },
  {
   "cell_type": "code",
   "execution_count": 5,
   "id": "cf9fb789-94d4-4afd-a677-2a9816c1e1ba",
   "metadata": {},
   "outputs": [
    {
     "name": "stdout",
     "output_type": "stream",
     "text": [
      "5 4 1 \n"
     ]
    }
   ],
   "source": [
    "extract_digits2(145)"
   ]
  },
  {
   "cell_type": "code",
   "execution_count": 6,
   "id": "57f0bf65-a6b0-4f9a-9032-ef1eff077d8d",
   "metadata": {},
   "outputs": [],
   "source": [
    "# Determine the number of digits\n",
    "def count_digits(number):\n",
    "    count, remaining_value = 0, number\n",
    "    while remaining_value > 0:\n",
    "        remaining_value //= 10\n",
    "        count += 1\n",
    "    return count"
   ]
  },
  {
   "cell_type": "code",
   "execution_count": 8,
   "id": "10b78ba3-dd80-465e-be30-66f4e28de2e9",
   "metadata": {},
   "outputs": [
    {
     "data": {
      "text/plain": [
       "4"
      ]
     },
     "execution_count": 8,
     "metadata": {},
     "output_type": "execute_result"
    }
   ],
   "source": [
    "count_digits(145)\n",
    "count_digits(1250)"
   ]
  },
  {
   "cell_type": "code",
   "execution_count": null,
   "id": "75f5222b-20eb-463f-831c-a0ce0800a22a",
   "metadata": {},
   "outputs": [],
   "source": []
  }
 ],
 "metadata": {
  "kernelspec": {
   "display_name": "Python 3 (ipykernel)",
   "language": "python",
   "name": "python3"
  },
  "language_info": {
   "codemirror_mode": {
    "name": "ipython",
    "version": 3
   },
   "file_extension": ".py",
   "mimetype": "text/x-python",
   "name": "python",
   "nbconvert_exporter": "python",
   "pygments_lexer": "ipython3",
   "version": "3.9.12"
  }
 },
 "nbformat": 4,
 "nbformat_minor": 5
}
