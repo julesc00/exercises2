{
 "cells": [
  {
   "cell_type": "markdown",
   "id": "82e17def-2cb0-4f4f-a1bd-7ec7dab24406",
   "metadata": {},
   "source": [
    "# 2.1.6 Getting started with Lambdas"
   ]
  },
  {
   "cell_type": "code",
   "execution_count": 4,
   "id": "ade4de71-7c8d-47cc-90e9-df7662350e81",
   "metadata": {},
   "outputs": [
    {
     "name": "stdout",
     "output_type": "stream",
     "text": [
      "[2, 11, 30, 14, 333, 100, 4444, 2222]\n",
      "[2, 11, 14, 30, 100, 333, 2222, 4444]\n"
     ]
    }
   ],
   "source": [
    "# With .sort()\n",
    "numbers = [11, 2, 30, 333, 14, 4444, 100, 2222]\n",
    "\n",
    "\"\"\"\n",
    "When calling sort() you can use the named parameter key to control sorting. Now\n",
    "you want to sort the numbers by length. Therefore, you use a lambda to convert the\n",
    "numbers to strings using str() and sort them by their length with len()—within the\n",
    "same length the ordering is not defined.\n",
    "\"\"\"\n",
    "numbers.sort(key=lambda x: len(str(x)))\n",
    "print(numbers)\n",
    "\n",
    "numbers.sort()\n",
    "print(numbers)\n"
   ]
  },
  {
   "cell_type": "code",
   "execution_count": null,
   "id": "d60dadc1-1c30-4442-a939-1fb6ea2f9e27",
   "metadata": {},
   "outputs": [],
   "source": []
  }
 ],
 "metadata": {
  "kernelspec": {
   "display_name": "Python 3 (ipykernel)",
   "language": "python",
   "name": "python3"
  },
  "language_info": {
   "codemirror_mode": {
    "name": "ipython",
    "version": 3
   },
   "file_extension": ".py",
   "mimetype": "text/x-python",
   "name": "python",
   "nbconvert_exporter": "python",
   "pygments_lexer": "ipython3",
   "version": "3.9.12"
  }
 },
 "nbformat": 4,
 "nbformat_minor": 5
}
