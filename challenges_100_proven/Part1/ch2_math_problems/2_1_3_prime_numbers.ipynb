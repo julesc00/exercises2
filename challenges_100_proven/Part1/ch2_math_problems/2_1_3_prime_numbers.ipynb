{
 "cells": [
  {
   "cell_type": "markdown",
   "id": "3bc854e6-af48-4b61-90db-d2325116f563",
   "metadata": {},
   "source": [
    "# 2.1.3 Short Introduction to Prime Numbers\n",
    "A prime number is a natural number that is greater than 1 and exclusively divisible by\n",
    "itself and by 1.  \n",
    "\n",
    "**Brute force algorithm for prime numbers** You look for the number to be checked starting from 2\n",
    "up to at most half of the number, whether the current number is a divisor of the original\n",
    "number. In that case, it’s not a prime. Otherwise, it needs to be checked further. In\n",
    "Python, this can be written as follows:"
   ]
  },
  {
   "cell_type": "code",
   "execution_count": 1,
   "id": "9068af01-f44b-4114-99d1-a8a02a15a63d",
   "metadata": {},
   "outputs": [],
   "source": [
    "def is_prime(potentially_prime):\n",
    "    for i in range(2, potentially_prime // 2 + 1):\n",
    "        if potentially_prime % i == 0:\n",
    "            return False\n",
    "    return True"
   ]
  },
  {
   "cell_type": "code",
   "execution_count": 2,
   "id": "c55009d7-6b0a-47f5-a2c8-69c8e7144f84",
   "metadata": {},
   "outputs": [
    {
     "name": "stdout",
     "output_type": "stream",
     "text": [
      "[2, 3, 5, 7, 11, 13, 17, 19, 23]\n"
     ]
    }
   ],
   "source": [
    "primes = []\n",
    "for number in range(2, 25):\n",
    "    if is_prime(number):\n",
    "        primes.append(number)\n",
    "print(primes)"
   ]
  },
  {
   "cell_type": "code",
   "execution_count": null,
   "id": "008fe5a7-ffe6-4d55-ab1e-5f01b179097b",
   "metadata": {},
   "outputs": [],
   "source": []
  }
 ],
 "metadata": {
  "kernelspec": {
   "display_name": "Python 3 (ipykernel)",
   "language": "python",
   "name": "python3"
  },
  "language_info": {
   "codemirror_mode": {
    "name": "ipython",
    "version": 3
   },
   "file_extension": ".py",
   "mimetype": "text/x-python",
   "name": "python",
   "nbconvert_exporter": "python",
   "pygments_lexer": "ipython3",
   "version": "3.9.12"
  }
 },
 "nbformat": 4,
 "nbformat_minor": 5
}
