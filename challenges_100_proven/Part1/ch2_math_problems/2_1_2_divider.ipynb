{
 "cells": [
  {
   "cell_type": "markdown",
   "id": "9cf10d5e-c897-460c-8078-eda1be9a2d3d",
   "metadata": {},
   "source": [
    "# 2.1.2 Short Introduction to Divider\n",
    "In the following, you examine how to determine all real divisors of a number (i. e., those\n",
    "without the number itself ). The algorithm is quite simple. Initially, the result contains\n",
    "the number 1, as this is always a valid divider. Then you go through all numbers starting\n",
    "by 2 up to half of the value (all higher values cannot be integer divisors if 2 is already\n",
    "a divisor) and check if they divide the given number without a remainder. If this is the\n",
    "case, then this number is a divisor and is included in a result list. You implement the\n",
    "whole thing as follows:"
   ]
  },
  {
   "cell_type": "code",
   "execution_count": 1,
   "id": "9add8fd4-a875-45c4-81c1-c4d9d9fe7183",
   "metadata": {},
   "outputs": [],
   "source": [
    "def find_proper_divisors(value: int) -> list[int]:\n",
    "    divisors = [1]\n",
    "    for i in range(2, value // 2 + 1):\n",
    "        if value % i == 0:\n",
    "            divisors.append(i)\n",
    "    return divisors"
   ]
  },
  {
   "cell_type": "code",
   "execution_count": 2,
   "id": "d8f4da53-1257-4fd7-88e4-271702c9ea78",
   "metadata": {},
   "outputs": [
    {
     "data": {
      "text/plain": [
       "[1]"
      ]
     },
     "execution_count": 2,
     "metadata": {},
     "output_type": "execute_result"
    }
   ],
   "source": [
    "find_proper_divisors(29)"
   ]
  },
  {
   "cell_type": "code",
   "execution_count": 3,
   "id": "4235f7a1-00c1-4fd5-ac66-a58039d958bb",
   "metadata": {},
   "outputs": [
    {
     "data": {
      "text/plain": [
       "[1, 2, 4, 5, 7, 10, 14, 20, 25, 28, 35, 50, 70, 100, 140, 175, 350]"
      ]
     },
     "execution_count": 3,
     "metadata": {},
     "output_type": "execute_result"
    }
   ],
   "source": [
    "find_proper_divisors(700)"
   ]
  },
  {
   "cell_type": "code",
   "execution_count": 13,
   "id": "71832702-f1cf-4c6b-a8e3-a00caea1bec6",
   "metadata": {},
   "outputs": [],
   "source": [
    "def find_proper_divisors2(value: int) -> list[int]:\n",
    "    divisors = 1\n",
    "    return [i for i in range(2, value // 2 + 1) if value % i == 0]"
   ]
  },
  {
   "cell_type": "code",
   "execution_count": 14,
   "id": "177dbcff-406c-40b5-af3c-7831189b3a99",
   "metadata": {},
   "outputs": [
    {
     "data": {
      "text/plain": [
       "[2, 4, 5, 7, 10, 14, 20, 25, 28, 35, 50, 70, 100, 140, 175, 350]"
      ]
     },
     "execution_count": 14,
     "metadata": {},
     "output_type": "execute_result"
    }
   ],
   "source": [
    "find_proper_divisors2(700)"
   ]
  },
  {
   "cell_type": "code",
   "execution_count": null,
   "id": "b3d2af84-317c-479c-80a3-2df872c5edce",
   "metadata": {},
   "outputs": [],
   "source": []
  }
 ],
 "metadata": {
  "kernelspec": {
   "display_name": "Python 3 (ipykernel)",
   "language": "python",
   "name": "python3"
  },
  "language_info": {
   "codemirror_mode": {
    "name": "ipython",
    "version": 3
   },
   "file_extension": ".py",
   "mimetype": "text/x-python",
   "name": "python",
   "nbconvert_exporter": "python",
   "pygments_lexer": "ipython3",
   "version": "3.9.12"
  }
 },
 "nbformat": 4,
 "nbformat_minor": 5
}
