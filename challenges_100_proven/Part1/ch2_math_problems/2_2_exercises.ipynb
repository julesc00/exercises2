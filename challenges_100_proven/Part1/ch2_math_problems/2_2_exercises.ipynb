{
 "cells": [
  {
   "cell_type": "code",
   "execution_count": 1,
   "id": "4f5aa040-5ae5-4e16-bf16-693b0bb11757",
   "metadata": {},
   "outputs": [],
   "source": [
    "\"\"\"\n",
    "Exercise 1a: \n",
    "Write function calc(m, n) that multiplies two variables m and n of type int, then\n",
    "divides the product by two, and outputs the remainder with respect to division by 7.\n",
    "\"\"\"\n",
    "\n",
    "def calc(m, n):\n",
    "    return (m * n // 2) % 7"
   ]
  },
  {
   "cell_type": "code",
   "execution_count": 2,
   "id": "07a4fb1c-c57b-4375-88b6-0a3574c28f2f",
   "metadata": {},
   "outputs": [
    {
     "data": {
      "text/plain": [
       "0"
      ]
     },
     "execution_count": 2,
     "metadata": {},
     "output_type": "execute_result"
    }
   ],
   "source": [
    "calc(6, 7)"
   ]
  },
  {
   "cell_type": "code",
   "execution_count": 3,
   "id": "61b637a4-a2e0-47bd-b11e-2332d55e9fde",
   "metadata": {},
   "outputs": [
    {
     "data": {
      "text/plain": [
       "5"
      ]
     },
     "execution_count": 3,
     "metadata": {},
     "output_type": "execute_result"
    }
   ],
   "source": [
    "calc(5, 5)"
   ]
  },
  {
   "cell_type": "code",
   "execution_count": 4,
   "id": "71c7c604-e239-4a1c-9b37-a9dd9fd305ce",
   "metadata": {},
   "outputs": [],
   "source": [
    "\"\"\"\n",
    "Exercise 1b:\n",
    "Count as well as sum up the natural numbers that are divisible by 2 or 7 up to a given\n",
    "maximum value (exclusive) and output it to the console. Write function calc_sum_and_\n",
    "count_all_numbers_div_by_2_or_7(max_exclusive). Extend it so that it returns the\n",
    "two values instead of performing the console output.\n",
    "\"\"\"\n",
    "def count_all_numbers_div_by_2_or_7(max_exclusive):\n",
    "    count, num_sum = 0, 0\n",
    "    for num in range(max_exclusive):\n",
    "        if num < max_exclusive:\n",
    "            if num % 2 == 0 or num % 7 == 0:\n",
    "                count += 1\n",
    "                num_sum += num\n",
    "                print(num)\n",
    "    print(f\"Count: {count} Sum: {num_sum}\")\n"
   ]
  },
  {
   "cell_type": "code",
   "execution_count": 7,
   "id": "402e8cce-1d91-4b25-a15e-e3bfa34bdd82",
   "metadata": {},
   "outputs": [
    {
     "name": "stdout",
     "output_type": "stream",
     "text": [
      "0\n",
      "2\n",
      "Count: 2 Sum: 0\n"
     ]
    }
   ],
   "source": [
    "count_all_numbers_div_by_2_or_7(3)"
   ]
  },
  {
   "cell_type": "code",
   "execution_count": 9,
   "id": "7c34af04-0818-4ea8-bf56-8740ac9e6c2d",
   "metadata": {},
   "outputs": [
    {
     "name": "stdout",
     "output_type": "stream",
     "text": [
      "0\n",
      "2\n",
      "4\n",
      "6\n",
      "7\n",
      "Count: 5 Sum: 0\n"
     ]
    }
   ],
   "source": [
    "count_all_numbers_div_by_2_or_7(8)"
   ]
  },
  {
   "cell_type": "code",
   "execution_count": null,
   "id": "2633b1fc-926c-4d90-8ecd-19749f8cefc6",
   "metadata": {},
   "outputs": [],
   "source": []
  }
 ],
 "metadata": {
  "kernelspec": {
   "display_name": "Python 3 (ipykernel)",
   "language": "python",
   "name": "python3"
  },
  "language_info": {
   "codemirror_mode": {
    "name": "ipython",
    "version": 3
   },
   "file_extension": ".py",
   "mimetype": "text/x-python",
   "name": "python",
   "nbconvert_exporter": "python",
   "pygments_lexer": "ipython3",
   "version": "3.9.12"
  }
 },
 "nbformat": 4,
 "nbformat_minor": 5
}
