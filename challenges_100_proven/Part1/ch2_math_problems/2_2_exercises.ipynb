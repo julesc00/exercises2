{
 "cells": [
  {
   "cell_type": "code",
   "execution_count": 4,
   "id": "4f5aa040-5ae5-4e16-bf16-693b0bb11757",
   "metadata": {},
   "outputs": [],
   "source": [
    "\"\"\"\n",
    "Exercise 1a: \n",
    "Write function calc(m, n) that multiplies two variables m and n of type int, then\n",
    "divides the product by two, and outputs the remainder with respect to division by 7.\n",
    "\"\"\"\n",
    "\n",
    "def calc(m, n):\n",
    "    return m * n // 2 % 7\n",
    "\n",
    "def calc2(m, n):\n",
    "    return int(m * n // 2) % 7"
   ]
  },
  {
   "cell_type": "code",
   "execution_count": 3,
   "id": "07a4fb1c-c57b-4375-88b6-0a3574c28f2f",
   "metadata": {},
   "outputs": [
    {
     "data": {
      "text/plain": [
       "0"
      ]
     },
     "execution_count": 3,
     "metadata": {},
     "output_type": "execute_result"
    }
   ],
   "source": [
    "calc(6, 7)"
   ]
  },
  {
   "cell_type": "code",
   "execution_count": 5,
   "id": "61b637a4-a2e0-47bd-b11e-2332d55e9fde",
   "metadata": {},
   "outputs": [
    {
     "data": {
      "text/plain": [
       "5"
      ]
     },
     "execution_count": 5,
     "metadata": {},
     "output_type": "execute_result"
    }
   ],
   "source": [
    "calc(5, 5)\n",
    "calc2(5, 5)"
   ]
  },
  {
   "cell_type": "code",
   "execution_count": 6,
   "id": "71c7c604-e239-4a1c-9b37-a9dd9fd305ce",
   "metadata": {},
   "outputs": [],
   "source": [
    "\"\"\"\n",
    "Exercise 1b:\n",
    "Count as well as sum up the natural numbers that are divisible by 2 or 7 up to a given\n",
    "maximum value (exclusive) and output it to the console. Write function calc_sum_and_\n",
    "count_all_numbers_div_by_2_or_7(max_exclusive). Extend it so that it returns the\n",
    "two values instead of performing the console output.\n",
    "\"\"\"\n",
    "def count_all_numbers_div_by_2_or_7(max_exclusive):\n",
    "    count, num_sum = 0, 0\n",
    "    for num in range(1, max_exclusive):\n",
    "        if num % 2 == 0 or num % 7 == 0:\n",
    "            count += 1\n",
    "            num_sum += 1\n",
    "    print(f\"Count: {count} Sum: {num_sum}\")\n"
   ]
  },
  {
   "cell_type": "code",
   "execution_count": 7,
   "id": "402e8cce-1d91-4b25-a15e-e3bfa34bdd82",
   "metadata": {},
   "outputs": [
    {
     "name": "stdout",
     "output_type": "stream",
     "text": [
      "Count: 1 Sum: 1\n"
     ]
    }
   ],
   "source": [
    "count_all_numbers_div_by_2_or_7(3)"
   ]
  },
  {
   "cell_type": "code",
   "execution_count": 8,
   "id": "7c34af04-0818-4ea8-bf56-8740ac9e6c2d",
   "metadata": {},
   "outputs": [
    {
     "name": "stdout",
     "output_type": "stream",
     "text": [
      "Count: 4 Sum: 4\n"
     ]
    }
   ],
   "source": [
    "count_all_numbers_div_by_2_or_7(8)"
   ]
  },
  {
   "cell_type": "code",
   "execution_count": 11,
   "id": "2633b1fc-926c-4d90-8ecd-19749f8cefc6",
   "metadata": {},
   "outputs": [],
   "source": [
    "\"\"\"\n",
    "Exercise 1c:\n",
    "Create the functions is_even(n) and is_odd(n) that will check if the passed integer is\n",
    "even or odd, respectively.\n",
    "\"\"\"\n",
    "import pytest\n",
    "\n",
    "\n",
    "def is_even(number):\n",
    "    return number % 2 == 0\n",
    "\n",
    "def is_odd(number):\n",
    "    return number % 2 != 0\n",
    "\n",
    "\n",
    "# Tests\n",
    "@pytest.mark.parametrize(\"m, n, expected\", [(6, 7, 0), (3, 4, 6), (5, 5, 5)])\n",
    "def test_calc(m, n, expected):\n",
    "    assert calc(m, n) == expected"
   ]
  },
  {
   "cell_type": "code",
   "execution_count": 10,
   "id": "79d01b92-74dd-491a-9f8b-24d8cde7ca8c",
   "metadata": {},
   "outputs": [
    {
     "data": {
      "text/plain": [
       "'25 is odd'"
      ]
     },
     "execution_count": 10,
     "metadata": {},
     "output_type": "execute_result"
    }
   ],
   "source": [
    "is_even(25)"
   ]
  },
  {
   "cell_type": "code",
   "execution_count": 6,
   "id": "5ba1f589-45f7-4d80-b7b1-a98b9058490f",
   "metadata": {},
   "outputs": [
    {
     "data": {
      "text/plain": [
       "'25 is odd'"
      ]
     },
     "execution_count": 6,
     "metadata": {},
     "output_type": "execute_result"
    }
   ],
   "source": [
    "is_odd(25)"
   ]
  },
  {
   "cell_type": "code",
   "execution_count": 11,
   "id": "2ebc8372-52a0-45c8-8168-0cf80136f2eb",
   "metadata": {},
   "outputs": [
    {
     "data": {
      "text/plain": [
       "'20 is even'"
      ]
     },
     "execution_count": 11,
     "metadata": {},
     "output_type": "execute_result"
    }
   ],
   "source": [
    "is_even(20)"
   ]
  },
  {
   "cell_type": "code",
   "execution_count": 12,
   "id": "e4d9babf-c8ce-4a11-b7e3-18057a15661b",
   "metadata": {},
   "outputs": [
    {
     "data": {
      "text/plain": [
       "'20 is even'"
      ]
     },
     "execution_count": 12,
     "metadata": {},
     "output_type": "execute_result"
    }
   ],
   "source": [
    "is_odd(20)"
   ]
  },
  {
   "cell_type": "code",
   "execution_count": 13,
   "id": "ed04a995-13c3-46be-8e4b-92f225ed0bc5",
   "metadata": {},
   "outputs": [],
   "source": [
    "\"\"\"\n",
    "2.2.2\n",
    "Exercise 2: Number as Text\n",
    "Write function number_as_text(n) which, for a given positive number, converts the\n",
    "respective digits into corresponding text.\n",
    "\n",
    "Example:\n",
    "    Input Result\n",
    "    7     “SEVEN”\n",
    "    42    “FOUR TWO”\n",
    "    24680 “TWO FOUR SIX EIGHT ZERO”\n",
    "    13579 “ONE THREE FIVE SEVEN NINE”\n",
    "\"\"\"\n",
    "def number_as_text(number):\n",
    "    remainder = number % 10\n",
    "    value_to_text = \"\"\n",
    "    \n",
    "    if remainder == 0:\n",
    "        value_to_text = \"ZERO\"\n",
    "    if remainder == 1:\n",
    "        value_to_text = \"ONE\"\n",
    "        \n",
    "    return value_to_text"
   ]
  },
  {
   "cell_type": "code",
   "execution_count": 14,
   "id": "ad0b4d50-3067-4908-a1a4-cf6916aa2fda",
   "metadata": {},
   "outputs": [
    {
     "data": {
      "text/plain": [
       "'ZERO'"
      ]
     },
     "execution_count": 14,
     "metadata": {},
     "output_type": "execute_result"
    }
   ],
   "source": [
    "number_as_text(100)"
   ]
  },
  {
   "cell_type": "code",
   "execution_count": null,
   "id": "2dc85050-a037-491f-8275-6c85c81997cd",
   "metadata": {},
   "outputs": [],
   "source": [
    "\"\"\"\n",
    "2.2.3\n",
    "Exercise 3: Perfect Numbers **\n",
    "\n",
    "By definition, a natural number is called a perfect number if its value is equal to the sum\n",
    "of its real divisors. This is true, for example, for the numbers 6 and 28:\n",
    "\"\"\"\n",
    "\n",
    "def calc_perfect_numbers(max_exclusive):\n",
    "    "
   ]
  }
 ],
 "metadata": {
  "kernelspec": {
   "display_name": "Python 3 (ipykernel)",
   "language": "python",
   "name": "python3"
  },
  "language_info": {
   "codemirror_mode": {
    "name": "ipython",
    "version": 3
   },
   "file_extension": ".py",
   "mimetype": "text/x-python",
   "name": "python",
   "nbconvert_exporter": "python",
   "pygments_lexer": "ipython3",
   "version": "3.9.12"
  }
 },
 "nbformat": 4,
 "nbformat_minor": 5
}
